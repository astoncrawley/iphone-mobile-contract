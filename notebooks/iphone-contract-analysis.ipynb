{
 "cells": [
  {
   "cell_type": "markdown",
   "metadata": {},
   "source": [
    "# 📱 iPhone Mobile Contract Analysis\n",
    "\n",
    "### Author: Aston Crawley"
   ]
  },
  {
   "cell_type": "markdown",
   "metadata": {},
   "source": [
    "The purpose of this analysis is to determine the most cost effective way to purchase an iPhone 17 Pro given the current mobile phone contracts currently available on the market."
   ]
  },
  {
   "cell_type": "code",
   "execution_count": 1,
   "metadata": {},
   "outputs": [],
   "source": [
    "import numpy as np\n",
    "import matplotlib.pyplot as plt"
   ]
  },
  {
   "cell_type": "code",
   "execution_count": 2,
   "metadata": {},
   "outputs": [],
   "source": [
    "# Assume that contract starts on September 30th 2025\n",
    "contract_start = \"30-09-2025\""
   ]
  },
  {
   "cell_type": "code",
   "execution_count": null,
   "metadata": {},
   "outputs": [],
   "source": [
    "# Option 1 - Larger upfront cost with smaller monthly payments\n",
    "# contract_len = 24\n",
    "# upfront_cost = 429.00\n",
    "# per_month_1 = 29.99\n",
    "# per_month_2 = 31.49\n",
    "# per_month_3 = 32.99\n",
    "\n",
    "# Option 2 - Smaller upfront cost with larger monthly payments\n",
    "# contract_len = 24\n",
    "# upfront_cost = 99.00\n",
    "# per_month_1 = 44.99\n",
    "# per_month_2 = 46.49\n",
    "# per_month_3 = 47.99\n"
   ]
  },
  {
   "cell_type": "code",
   "execution_count": 13,
   "metadata": {},
   "outputs": [],
   "source": [
    "def get_monthly_costs(contract_len, upfront_cost, per_month_1, per_month_2, per_month_3):\n",
    "    monthly_costs = []\n",
    "\n",
    "    for i in range(contract_len):\n",
    "        cost = 0\n",
    "        if i == 0:\n",
    "            cost += upfront_cost\n",
    "        if i < 6:\n",
    "            cost += per_month_1\n",
    "        elif i > 5 and i < 18:\n",
    "            cost += per_month_2\n",
    "        elif i > 17:\n",
    "            cost += per_month_3\n",
    "        else:\n",
    "            print(\"Something's gone wrong\")\n",
    "        \n",
    "        monthly_costs.append(cost)\n",
    "\n",
    "    return monthly_costs"
   ]
  },
  {
   "cell_type": "code",
   "execution_count": 14,
   "metadata": {},
   "outputs": [],
   "source": [
    "option_1_mon_cost = get_monthly_costs(contract_len = 24, \n",
    "                                      upfront_cost = 429.00,\n",
    "                                      per_month_1 = 29.99,\n",
    "                                      per_month_2 = 31.49,\n",
    "                                      per_month_3 = 32.99)"
   ]
  },
  {
   "cell_type": "code",
   "execution_count": 15,
   "metadata": {},
   "outputs": [],
   "source": [
    "option_2_mon_cost = get_monthly_costs(contract_len = 24, \n",
    "                                      upfront_cost = 99.00,\n",
    "                                      per_month_1 = 44.99,\n",
    "                                      per_month_2 = 46.49,\n",
    "                                      per_month_3 = 47.99)"
   ]
  },
  {
   "cell_type": "code",
   "execution_count": 16,
   "metadata": {},
   "outputs": [
    {
     "data": {
      "text/plain": [
       "array([ 458.99,  488.98,  518.97,  548.96,  578.95,  608.94,  640.43,\n",
       "        671.92,  703.41,  734.9 ,  766.39,  797.88,  829.37,  860.86,\n",
       "        892.35,  923.84,  955.33,  986.82, 1019.81, 1052.8 , 1085.79,\n",
       "       1118.78, 1151.77, 1184.76])"
      ]
     },
     "execution_count": 16,
     "metadata": {},
     "output_type": "execute_result"
    }
   ],
   "source": [
    "option_1_cum_cost = np.cumsum(option_1_mon_cost)\n",
    "option_1_cum_cost"
   ]
  },
  {
   "cell_type": "code",
   "execution_count": 17,
   "metadata": {},
   "outputs": [
    {
     "data": {
      "text/plain": [
       "np.float64(49.36500000000001)"
      ]
     },
     "execution_count": 17,
     "metadata": {},
     "output_type": "execute_result"
    }
   ],
   "source": [
    "# Check monthly average cost value to confirm calculations\n",
    "np.mean(option_1_mon_cost)"
   ]
  },
  {
   "cell_type": "code",
   "execution_count": 18,
   "metadata": {},
   "outputs": [
    {
     "data": {
      "text/plain": [
       "array([ 143.99,  188.98,  233.97,  278.96,  323.95,  368.94,  415.43,\n",
       "        461.92,  508.41,  554.9 ,  601.39,  647.88,  694.37,  740.86,\n",
       "        787.35,  833.84,  880.33,  926.82,  974.81, 1022.8 , 1070.79,\n",
       "       1118.78, 1166.77, 1214.76])"
      ]
     },
     "execution_count": 18,
     "metadata": {},
     "output_type": "execute_result"
    }
   ],
   "source": [
    "option_2_cum_cost = np.cumsum(option_2_mon_cost)\n",
    "option_2_cum_cost"
   ]
  },
  {
   "cell_type": "code",
   "execution_count": 19,
   "metadata": {},
   "outputs": [
    {
     "data": {
      "text/plain": [
       "np.float64(50.61500000000001)"
      ]
     },
     "execution_count": 19,
     "metadata": {},
     "output_type": "execute_result"
    }
   ],
   "source": [
    "# Check monthly average cost value to confirm calculations\n",
    "np.mean(option_2_mon_cost)"
   ]
  },
  {
   "cell_type": "code",
   "execution_count": 21,
   "metadata": {},
   "outputs": [
    {
     "data": {
      "image/png": "[encoded data removed]",
      "text/plain": [
       "<Figure size 640x480 with 1 Axes>"
      ]
     },
     "metadata": {},
     "output_type": "display_data"
    }
   ],
   "source": [
    "plt.plot(range(1, 25, 1), option_1_cum_cost, label=\"Option 1\")\n",
    "plt.plot(range(1, 25, 1), option_2_cum_cost, label=\"Option 2\")\n",
    "plt.title(\"Cumulative cost\")\n",
    "plt.xlabel(\"Contract Month\")\n",
    "plt.ylabel(\"Cumulative Cost (GBP)\")\n",
    "plt.show()"
   ]
  },
  {
   "cell_type": "code",
   "execution_count": null,
   "metadata": {},
   "outputs": [
    {
     "data": {
      "text/plain": [
       "array([315., 300., 285., 270., 255., 240., 225., 210., 195., 180., 165.,\n",
       "       150., 135., 120., 105.,  90.,  75.,  60.,  45.,  30.,  15.,   0.,\n",
       "       -15., -30.])"
      ]
     },
     "execution_count": 22,
     "metadata": {},
     "output_type": "execute_result"
    }
   ],
   "source": [
    "option_dif = option_1_cum_cost - option_2_cum_cost\n",
    "option_dif"
   ]
  },
  {
   "cell_type": "markdown",
   "metadata": {},
   "source": [
    "It seems then that the most cost effective option would be to selection option 1 and pay £30 less at the end of the 24 month contract, assuming that you end your contract on the final day and do not continue to pay the contract price out of contract. But what about the difference in upfront cost? If you were to put that money into a savings account, what interest rate would be required in order for the total cost for both options to be the same?"
   ]
  },
  {
   "cell_type": "code",
   "execution_count": null,
   "metadata": {},
   "outputs": [
    {
     "data": {
      "text/plain": [
       "0.04548872342077126"
      ]
     },
     "execution_count": 29,
     "metadata": {},
     "output_type": "execute_result"
    }
   ],
   "source": [
    "# Compound interest calculation\n",
    "# A = P(1 + r/n)^nt \n",
    "\n",
    "n = 365 # annual interest payments (Daily)\n",
    "t = 2 # timeframe (2 years)\n",
    "A = 345 # final amount\n",
    "P = 315 # principal amount\n",
    "\n",
    "r = n * ((A/P) ** (1/(365*2)) - 1)\n",
    "r # minimum interest rate required to break even"
   ]
  },
  {
   "cell_type": "code",
   "execution_count": 31,
   "metadata": {},
   "outputs": [
    {
     "data": {
      "text/plain": [
       "345.0000000000175"
      ]
     },
     "execution_count": 31,
     "metadata": {},
     "output_type": "execute_result"
    }
   ],
   "source": [
    "test = P * (1 + r/n) ** (n*t)\n",
    "test"
   ]
  },
  {
   "cell_type": "markdown",
   "metadata": {},
   "source": [
    "In order for you to break even with option 1 having chosen option 2 you would have to put the initial difference into a high yield savings account earning 4.5488% interest paid daily which would earn £30 worth of interest across the 24 month contract period."
   ]
  }
 ],
 "metadata": {
  "kernelspec": {
   "display_name": "venv",
   "language": "python",
   "name": "python3"
  },
  "language_info": {
   "codemirror_mode": {
    "name": "ipython",
    "version": 3
   },
   "file_extension": ".py",
   "mimetype": "text/x-python",
   "name": "python",
   "nbconvert_exporter": "python",
   "pygments_lexer": "ipython3",
   "version": "3.12.11"
  }
 },
 "nbformat": 4,
 "nbformat_minor": 2
}
